{
 "cells": [
  {
   "cell_type": "markdown",
   "metadata": {},
   "source": [
    "# String operations"
   ]
  },
  {
   "cell_type": "markdown",
   "metadata": {},
   "source": [
    "Clean students' names"
   ]
  },
  {
   "cell_type": "code",
   "execution_count": 1,
   "metadata": {},
   "outputs": [],
   "source": [
    "students = [\"Aine_Gates\",\n",
    "            \"Àlex_Gómez\",\n",
    "            \"André_SantaClara\",\n",
    "            \"Anne_Fonte\",\n",
    "            \"Arnau_Angerri\",\n",
    "            \"Carla_Feriche\",\n",
    "            \"Daria_Gavrilova\",\n",
    "            \"Dirk_Gruhne\",\n",
    "            \"Erik_Termes\",\n",
    "            \"Filipe_Santos\",\n",
    "            \"Hugo_Mellado\",\n",
    "            \"Jorge_Gonzalez\",\n",
    "            \"Marc_Sarrau\",\n",
    "            \"Maria_González\",\n",
    "            \"Miguel_Chacon\",\n",
    "            \"Miguel_Simón\",\n",
    "            \"Nick_Deitmers\",\n",
    "            \"Oscar_Tomás\",\n",
    "            \"Pau_Sancho\",\n",
    "            \"Pol_Serramalera\",\n",
    "            \"Raúl_Castrillo\",\n",
    "            \"Réka_Varga\",\n",
    "            \"Sara_Peña\",\n",
    "            \"Sergio_Monge\",\n",
    "            \"Toni_Espadas\",\n",
    "            \"Víctor_López\",\n",
    "            \"Yidi_Chi\"]"
   ]
  },
  {
   "cell_type": "code",
   "execution_count": 6,
   "metadata": {},
   "outputs": [],
   "source": [
    "def clean_names(names_list):\n",
    "    clean_list = []\n",
    "    for name in names_list:\n",
    "        clean_list.append(name.replace(\"_\", \" \"))\n",
    "    return clean_list"
   ]
  },
  {
   "cell_type": "code",
   "execution_count": 8,
   "metadata": {},
   "outputs": [
    {
     "name": "stdout",
     "output_type": "stream",
     "text": [
      "['Aine Gates', 'Àlex Gómez', 'André SantaClara', 'Anne Fonte', 'Arnau Angerri', 'Carla Feriche', 'Daria Gavrilova', 'Dirk Gruhne', 'Erik Termes', 'Filipe Santos', 'Hugo Mellado', 'Jorge Gonzalez', 'Marc Sarrau', 'Maria González', 'Miguel Chacon', 'Miguel Simón', 'Nick Deitmers', 'Oscar Tomás', 'Pau Sancho', 'Pol Serramalera', 'Raúl Castrillo', 'Réka Varga', 'Sara Peña', 'Sergio Monge', 'Toni Espadas', 'Víctor López', 'Yidi Chi']\n"
     ]
    }
   ],
   "source": [
    "students_clean = clean_names(students)\n",
    "\n",
    "print(students_clean)"
   ]
  },
  {
   "cell_type": "markdown",
   "metadata": {},
   "source": [
    "Detect colors in sentences:"
   ]
  },
  {
   "cell_type": "code",
   "execution_count": 18,
   "metadata": {},
   "outputs": [],
   "source": [
    "colors = [\"red\", \"blue\", \"green\", \"orange\", \"yellow\", \"black\", \"purple\", \"white\", \"brown\", \"gray\", \"pink\"]\n",
    "\n",
    "sentences = [\"My jacket is green\", \"I like red apples\", \"We are all in a yellow submarine\", \"Black lives matter\",\n",
    "             \"I'm blue da ba dee da ba daa\", \"Purple rain\", \"Coral is far more red than her lips' red\"]"
   ]
  },
  {
   "cell_type": "code",
   "execution_count": 19,
   "metadata": {},
   "outputs": [
    {
     "name": "stdout",
     "output_type": "stream",
     "text": [
      "green detected\n",
      "red detected\n",
      "yellow detected\n",
      "blue detected\n",
      "red detected\n"
     ]
    }
   ],
   "source": [
    "for sentence in sentences:\n",
    "    for color in colors:\n",
    "        if sentence.find(color) != -1:\n",
    "            print(color + \" detected\")"
   ]
  },
  {
   "cell_type": "markdown",
   "metadata": {},
   "source": [
    "Have you detected \"Black\"?"
   ]
  },
  {
   "cell_type": "code",
   "execution_count": 24,
   "metadata": {},
   "outputs": [
    {
     "name": "stdout",
     "output_type": "stream",
     "text": [
      "green detected\n",
      "red detected\n",
      "yellow detected\n",
      "black detected\n",
      "blue detected\n",
      "purple detected\n",
      "red detected\n"
     ]
    }
   ],
   "source": [
    "for sentence in sentences:\n",
    "    for color in colors:\n",
    "        if sentence.lower().find(color) != -1:\n",
    "            print(color + \" detected\")"
   ]
  },
  {
   "cell_type": "markdown",
   "metadata": {},
   "source": [
    "Make it a function:"
   ]
  },
  {
   "cell_type": "code",
   "execution_count": 25,
   "metadata": {},
   "outputs": [],
   "source": [
    "def color_detector(colors_list, sentences_list):\n",
    "    for sentence in sentences_list:\n",
    "        for color in colors_list:\n",
    "            if sentence.lower().find(color) != -1:\n",
    "                print(color + \" detected\")"
   ]
  },
  {
   "cell_type": "code",
   "execution_count": 26,
   "metadata": {},
   "outputs": [
    {
     "name": "stdout",
     "output_type": "stream",
     "text": [
      "green detected\n",
      "red detected\n",
      "yellow detected\n",
      "black detected\n",
      "blue detected\n",
      "purple detected\n",
      "red detected\n"
     ]
    }
   ],
   "source": [
    "color_detector(colors, sentences)"
   ]
  },
  {
   "cell_type": "markdown",
   "metadata": {},
   "source": [
    "Replace a color for another one (at random):"
   ]
  },
  {
   "cell_type": "code",
   "execution_count": 28,
   "metadata": {},
   "outputs": [],
   "source": [
    "import random"
   ]
  },
  {
   "cell_type": "code",
   "execution_count": 32,
   "metadata": {
    "scrolled": true
   },
   "outputs": [
    {
     "data": {
      "text/plain": [
       "'brown'"
      ]
     },
     "execution_count": 32,
     "metadata": {},
     "output_type": "execute_result"
    }
   ],
   "source": [
    "random.choice(colors)"
   ]
  },
  {
   "cell_type": "markdown",
   "metadata": {},
   "source": [
    "Replace the color for another color, picked at random:"
   ]
  },
  {
   "cell_type": "code",
   "execution_count": 74,
   "metadata": {},
   "outputs": [
    {
     "name": "stdout",
     "output_type": "stream",
     "text": [
      "My jacket is black\n",
      "I like red apples\n",
      "We are all in a brown submarine\n",
      "Pink lives matter\n",
      "I'm yellow da ba dee da ba daa\n",
      "Orange rain\n",
      "Coral is far more white than her lips' white\n"
     ]
    }
   ],
   "source": [
    "for sentence in sentences:\n",
    "    sentence = sentence.lower()\n",
    "    for color in colors:\n",
    "        if sentence.find(color) != -1:\n",
    "            detected_color = color\n",
    "            print(sentence.replace(color, random.choice(colors)).capitalize())"
   ]
  },
  {
   "cell_type": "markdown",
   "metadata": {},
   "source": []
  }
 ],
 "metadata": {
  "kernelspec": {
   "display_name": "Python 3",
   "language": "python",
   "name": "python3"
  },
  "language_info": {
   "codemirror_mode": {
    "name": "ipython",
    "version": 3
   },
   "file_extension": ".py",
   "mimetype": "text/x-python",
   "name": "python",
   "nbconvert_exporter": "python",
   "pygments_lexer": "ipython3",
   "version": "3.8.8"
  }
 },
 "nbformat": 4,
 "nbformat_minor": 4
}
