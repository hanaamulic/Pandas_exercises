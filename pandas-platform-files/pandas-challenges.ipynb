{
 "cells": [
  {
   "cell_type": "markdown",
   "metadata": {},
   "source": [
    "# Pandas challenges"
   ]
  },
  {
   "cell_type": "markdown",
   "metadata": {},
   "source": [
    "Read the `veahicles.csv` dataframe and store it in a variable called `cars`:"
   ]
  },
  {
   "cell_type": "code",
   "execution_count": 13,
   "metadata": {},
   "outputs": [],
   "source": [
    "import pandas as pd\n",
    "import re"
   ]
  },
  {
   "cell_type": "code",
   "execution_count": 14,
   "metadata": {},
   "outputs": [],
   "source": [
    "cars = pd.read_csv('data/vehicles.csv')"
   ]
  },
  {
   "cell_type": "markdown",
   "metadata": {
    "tags": []
   },
   "source": [
    "Explore the dataset:\n",
    "\n",
    "- How many rows and columns are there?\n",
    "\n",
    "- What are the data types of the columns?\n",
    "\n",
    "- Are there missing values?\n",
    "\n",
    "- What are the ranges / distributions of the numerical columns?\n",
    "\n",
    "- What are the value counts for the categorical columns?"
   ]
  },
  {
   "cell_type": "code",
   "execution_count": 15,
   "metadata": {
    "tags": []
   },
   "outputs": [
    {
     "name": "stdout",
     "output_type": "stream",
     "text": [
      "<class 'pandas.core.frame.DataFrame'>\n",
      "RangeIndex: 35952 entries, 0 to 35951\n",
      "Data columns (total 15 columns):\n",
      " #   Column                   Non-Null Count  Dtype  \n",
      "---  ------                   --------------  -----  \n",
      " 0   Make                     35952 non-null  object \n",
      " 1   Model                    35952 non-null  object \n",
      " 2   Year                     35952 non-null  int64  \n",
      " 3   Engine Displacement      35952 non-null  float64\n",
      " 4   Cylinders                35952 non-null  float64\n",
      " 5   Transmission             35952 non-null  object \n",
      " 6   Drivetrain               35952 non-null  object \n",
      " 7   Vehicle Class            35952 non-null  object \n",
      " 8   Fuel Type                35952 non-null  object \n",
      " 9   Fuel Barrels/Year        35952 non-null  float64\n",
      " 10  City MPG                 35952 non-null  int64  \n",
      " 11  Highway MPG              35952 non-null  int64  \n",
      " 12  Combined MPG             35952 non-null  int64  \n",
      " 13  CO2 Emission Grams/Mile  35952 non-null  float64\n",
      " 14  Fuel Cost/Year           35952 non-null  int64  \n",
      "dtypes: float64(4), int64(5), object(6)\n",
      "memory usage: 4.1+ MB\n"
     ]
    },
    {
     "data": {
      "text/plain": [
       "(35952, 15)"
      ]
     },
     "execution_count": 15,
     "metadata": {},
     "output_type": "execute_result"
    }
   ],
   "source": [
    "cars.info()\n",
    "cars.head()\n",
    "cars.shape"
   ]
  },
  {
   "cell_type": "code",
   "execution_count": 16,
   "metadata": {},
   "outputs": [
    {
     "data": {
      "text/plain": [
       "Make                       0\n",
       "Model                      0\n",
       "Year                       0\n",
       "Engine Displacement        0\n",
       "Cylinders                  0\n",
       "Transmission               0\n",
       "Drivetrain                 0\n",
       "Vehicle Class              0\n",
       "Fuel Type                  0\n",
       "Fuel Barrels/Year          0\n",
       "City MPG                   0\n",
       "Highway MPG                0\n",
       "Combined MPG               0\n",
       "CO2 Emission Grams/Mile    0\n",
       "Fuel Cost/Year             0\n",
       "dtype: int64"
      ]
     },
     "execution_count": 16,
     "metadata": {},
     "output_type": "execute_result"
    }
   ],
   "source": [
    "cars.isna().sum(axis=0)"
   ]
  },
  {
   "cell_type": "code",
   "execution_count": 17,
   "metadata": {
    "tags": []
   },
   "outputs": [
    {
     "data": {
      "text/html": [
       "<div>\n",
       "<style scoped>\n",
       "    .dataframe tbody tr th:only-of-type {\n",
       "        vertical-align: middle;\n",
       "    }\n",
       "\n",
       "    .dataframe tbody tr th {\n",
       "        vertical-align: top;\n",
       "    }\n",
       "\n",
       "    .dataframe thead th {\n",
       "        text-align: right;\n",
       "    }\n",
       "</style>\n",
       "<table border=\"1\" class=\"dataframe\">\n",
       "  <thead>\n",
       "    <tr style=\"text-align: right;\">\n",
       "      <th></th>\n",
       "      <th>Year</th>\n",
       "      <th>Engine Displacement</th>\n",
       "      <th>Cylinders</th>\n",
       "      <th>Fuel Barrels/Year</th>\n",
       "      <th>City MPG</th>\n",
       "      <th>Highway MPG</th>\n",
       "      <th>Combined MPG</th>\n",
       "      <th>CO2 Emission Grams/Mile</th>\n",
       "      <th>Fuel Cost/Year</th>\n",
       "    </tr>\n",
       "  </thead>\n",
       "  <tbody>\n",
       "    <tr>\n",
       "      <th>count</th>\n",
       "      <td>35952.00000</td>\n",
       "      <td>35952.000000</td>\n",
       "      <td>35952.000000</td>\n",
       "      <td>35952.000000</td>\n",
       "      <td>35952.000000</td>\n",
       "      <td>35952.000000</td>\n",
       "      <td>35952.000000</td>\n",
       "      <td>35952.000000</td>\n",
       "      <td>35952.000000</td>\n",
       "    </tr>\n",
       "    <tr>\n",
       "      <th>mean</th>\n",
       "      <td>2000.71640</td>\n",
       "      <td>3.338493</td>\n",
       "      <td>5.765076</td>\n",
       "      <td>17.609056</td>\n",
       "      <td>17.646139</td>\n",
       "      <td>23.880646</td>\n",
       "      <td>19.929322</td>\n",
       "      <td>475.316339</td>\n",
       "      <td>1892.598465</td>\n",
       "    </tr>\n",
       "    <tr>\n",
       "      <th>std</th>\n",
       "      <td>10.08529</td>\n",
       "      <td>1.359395</td>\n",
       "      <td>1.755268</td>\n",
       "      <td>4.467283</td>\n",
       "      <td>4.769349</td>\n",
       "      <td>5.890876</td>\n",
       "      <td>5.112409</td>\n",
       "      <td>119.060773</td>\n",
       "      <td>506.958627</td>\n",
       "    </tr>\n",
       "    <tr>\n",
       "      <th>min</th>\n",
       "      <td>1984.00000</td>\n",
       "      <td>0.600000</td>\n",
       "      <td>2.000000</td>\n",
       "      <td>0.060000</td>\n",
       "      <td>6.000000</td>\n",
       "      <td>9.000000</td>\n",
       "      <td>7.000000</td>\n",
       "      <td>37.000000</td>\n",
       "      <td>600.000000</td>\n",
       "    </tr>\n",
       "    <tr>\n",
       "      <th>25%</th>\n",
       "      <td>1991.00000</td>\n",
       "      <td>2.200000</td>\n",
       "      <td>4.000000</td>\n",
       "      <td>14.699423</td>\n",
       "      <td>15.000000</td>\n",
       "      <td>20.000000</td>\n",
       "      <td>16.000000</td>\n",
       "      <td>395.000000</td>\n",
       "      <td>1500.000000</td>\n",
       "    </tr>\n",
       "    <tr>\n",
       "      <th>50%</th>\n",
       "      <td>2001.00000</td>\n",
       "      <td>3.000000</td>\n",
       "      <td>6.000000</td>\n",
       "      <td>17.347895</td>\n",
       "      <td>17.000000</td>\n",
       "      <td>24.000000</td>\n",
       "      <td>19.000000</td>\n",
       "      <td>467.736842</td>\n",
       "      <td>1850.000000</td>\n",
       "    </tr>\n",
       "    <tr>\n",
       "      <th>75%</th>\n",
       "      <td>2010.00000</td>\n",
       "      <td>4.300000</td>\n",
       "      <td>6.000000</td>\n",
       "      <td>20.600625</td>\n",
       "      <td>20.000000</td>\n",
       "      <td>27.000000</td>\n",
       "      <td>23.000000</td>\n",
       "      <td>555.437500</td>\n",
       "      <td>2200.000000</td>\n",
       "    </tr>\n",
       "    <tr>\n",
       "      <th>max</th>\n",
       "      <td>2017.00000</td>\n",
       "      <td>8.400000</td>\n",
       "      <td>16.000000</td>\n",
       "      <td>47.087143</td>\n",
       "      <td>58.000000</td>\n",
       "      <td>61.000000</td>\n",
       "      <td>56.000000</td>\n",
       "      <td>1269.571429</td>\n",
       "      <td>5800.000000</td>\n",
       "    </tr>\n",
       "  </tbody>\n",
       "</table>\n",
       "</div>"
      ],
      "text/plain": [
       "              Year  Engine Displacement     Cylinders  Fuel Barrels/Year  \\\n",
       "count  35952.00000         35952.000000  35952.000000       35952.000000   \n",
       "mean    2000.71640             3.338493      5.765076          17.609056   \n",
       "std       10.08529             1.359395      1.755268           4.467283   \n",
       "min     1984.00000             0.600000      2.000000           0.060000   \n",
       "25%     1991.00000             2.200000      4.000000          14.699423   \n",
       "50%     2001.00000             3.000000      6.000000          17.347895   \n",
       "75%     2010.00000             4.300000      6.000000          20.600625   \n",
       "max     2017.00000             8.400000     16.000000          47.087143   \n",
       "\n",
       "           City MPG   Highway MPG  Combined MPG  CO2 Emission Grams/Mile  \\\n",
       "count  35952.000000  35952.000000  35952.000000             35952.000000   \n",
       "mean      17.646139     23.880646     19.929322               475.316339   \n",
       "std        4.769349      5.890876      5.112409               119.060773   \n",
       "min        6.000000      9.000000      7.000000                37.000000   \n",
       "25%       15.000000     20.000000     16.000000               395.000000   \n",
       "50%       17.000000     24.000000     19.000000               467.736842   \n",
       "75%       20.000000     27.000000     23.000000               555.437500   \n",
       "max       58.000000     61.000000     56.000000              1269.571429   \n",
       "\n",
       "       Fuel Cost/Year  \n",
       "count    35952.000000  \n",
       "mean      1892.598465  \n",
       "std        506.958627  \n",
       "min        600.000000  \n",
       "25%       1500.000000  \n",
       "50%       1850.000000  \n",
       "75%       2200.000000  \n",
       "max       5800.000000  "
      ]
     },
     "execution_count": 17,
     "metadata": {},
     "output_type": "execute_result"
    }
   ],
   "source": [
    "cars.describe()"
   ]
  },
  {
   "cell_type": "code",
   "execution_count": 18,
   "metadata": {},
   "outputs": [
    {
     "data": {
      "text/plain": [
       "array([[<AxesSubplot:title={'center':'Year'}>,\n",
       "        <AxesSubplot:title={'center':'Engine Displacement'}>,\n",
       "        <AxesSubplot:title={'center':'Cylinders'}>],\n",
       "       [<AxesSubplot:title={'center':'Fuel Barrels/Year'}>,\n",
       "        <AxesSubplot:title={'center':'City MPG'}>,\n",
       "        <AxesSubplot:title={'center':'Highway MPG'}>],\n",
       "       [<AxesSubplot:title={'center':'Combined MPG'}>,\n",
       "        <AxesSubplot:title={'center':'CO2 Emission Grams/Mile'}>,\n",
       "        <AxesSubplot:title={'center':'Fuel Cost/Year'}>]], dtype=object)"
      ]
     },
     "execution_count": 18,
     "metadata": {},
     "output_type": "execute_result"
    },
    {
     "data": {
      "image/png": "[encoded data removed]",
      "text/plain": [
       "<Figure size 864x1296 with 9 Axes>"
      ]
     },
     "metadata": {
      "needs_background": "light"
     },
     "output_type": "display_data"
    }
   ],
   "source": [
    "cars.hist(figsize=(12,18))"
   ]
  },
  {
   "cell_type": "markdown",
   "metadata": {},
   "source": [
    "Drop the column \"Combined MPG\""
   ]
  },
  {
   "cell_type": "code",
   "execution_count": 20,
   "metadata": {},
   "outputs": [],
   "source": [
    "cars.drop(['Combined MPG'],axis=1,inplace=True)"
   ]
  },
  {
   "cell_type": "markdown",
   "metadata": {},
   "source": [
    "Change column names so that there are no names with spaces or weird special characters:"
   ]
  },
  {
   "cell_type": "code",
   "execution_count": 22,
   "metadata": {},
   "outputs": [],
   "source": [
    "cars.columns = cars.columns.str.replace(' ','_')\n",
    "cars.columns = cars.columns.str.replace('/','_')\n",
    "# cars.columns = cars.columns.str.replace('\\W','_')\n",
    "\n",
    "cars.rename(columns={\"Unnamed:_0\": \"id\"},inplace=True)"
   ]
  },
  {
   "cell_type": "markdown",
   "metadata": {},
   "source": [
    "What brand has the most cars?"
   ]
  },
  {
   "cell_type": "code",
   "execution_count": 394,
   "metadata": {},
   "outputs": [
    {
     "name": "stdout",
     "output_type": "stream",
     "text": [
      "Chevrolet    3643\n",
      "Name: Make, dtype: int64\n"
     ]
    }
   ],
   "source": [
    "# temp = cars.groupby('Make').id.count().reset_index()\n",
    "# max_brand_cars = temp[temp.id == temp.id.max()]\n",
    "# print(max_brand_cars)\n",
    "print(cars.Make.value_counts().head(1))"
   ]
  },
  {
   "cell_type": "markdown",
   "metadata": {},
   "source": [
    "What brand has the worse CO2 Emissions on average?"
   ]
  },
  {
   "cell_type": "code",
   "execution_count": 23,
   "metadata": {},
   "outputs": [
    {
     "data": {
      "text/html": [
       "<div>\n",
       "<style scoped>\n",
       "    .dataframe tbody tr th:only-of-type {\n",
       "        vertical-align: middle;\n",
       "    }\n",
       "\n",
       "    .dataframe tbody tr th {\n",
       "        vertical-align: top;\n",
       "    }\n",
       "\n",
       "    .dataframe thead th {\n",
       "        text-align: right;\n",
       "    }\n",
       "</style>\n",
       "<table border=\"1\" class=\"dataframe\">\n",
       "  <thead>\n",
       "    <tr style=\"text-align: right;\">\n",
       "      <th></th>\n",
       "      <th>CO2_Emission_Grams_Mile</th>\n",
       "    </tr>\n",
       "    <tr>\n",
       "      <th>Make</th>\n",
       "      <th></th>\n",
       "    </tr>\n",
       "  </thead>\n",
       "  <tbody>\n",
       "    <tr>\n",
       "      <th>Vector</th>\n",
       "      <td>1049.159722</td>\n",
       "    </tr>\n",
       "  </tbody>\n",
       "</table>\n",
       "</div>"
      ],
      "text/plain": [
       "        CO2_Emission_Grams_Mile\n",
       "Make                           \n",
       "Vector              1049.159722"
      ]
     },
     "execution_count": 23,
     "metadata": {},
     "output_type": "execute_result"
    }
   ],
   "source": [
    "cars.groupby('Make').agg({'CO2_Emission_Grams_Mile': 'mean'}).sort_values(by='CO2_Emission_Grams_Mile',ascending=False).head(1)"
   ]
  },
  {
   "cell_type": "markdown",
   "metadata": {},
   "source": [
    "Which brands are more environment friendly?"
   ]
  },
  {
   "cell_type": "code",
   "execution_count": 24,
   "metadata": {},
   "outputs": [
    {
     "data": {
      "text/html": [
       "<div>\n",
       "<style scoped>\n",
       "    .dataframe tbody tr th:only-of-type {\n",
       "        vertical-align: middle;\n",
       "    }\n",
       "\n",
       "    .dataframe tbody tr th {\n",
       "        vertical-align: top;\n",
       "    }\n",
       "\n",
       "    .dataframe thead th {\n",
       "        text-align: right;\n",
       "    }\n",
       "</style>\n",
       "<table border=\"1\" class=\"dataframe\">\n",
       "  <thead>\n",
       "    <tr style=\"text-align: right;\">\n",
       "      <th></th>\n",
       "      <th>CO2_Emission_Grams_Mile</th>\n",
       "    </tr>\n",
       "    <tr>\n",
       "      <th>Make</th>\n",
       "      <th></th>\n",
       "    </tr>\n",
       "  </thead>\n",
       "  <tbody>\n",
       "    <tr>\n",
       "      <th>Fisker</th>\n",
       "      <td>169.000000</td>\n",
       "    </tr>\n",
       "    <tr>\n",
       "      <th>smart</th>\n",
       "      <td>247.030556</td>\n",
       "    </tr>\n",
       "    <tr>\n",
       "      <th>Fiat</th>\n",
       "      <td>304.666560</td>\n",
       "    </tr>\n",
       "    <tr>\n",
       "      <th>Daihatsu</th>\n",
       "      <td>310.188060</td>\n",
       "    </tr>\n",
       "    <tr>\n",
       "      <th>MINI</th>\n",
       "      <td>313.716862</td>\n",
       "    </tr>\n",
       "    <tr>\n",
       "      <th>Scion</th>\n",
       "      <td>331.395918</td>\n",
       "    </tr>\n",
       "    <tr>\n",
       "      <th>Geo</th>\n",
       "      <td>337.077591</td>\n",
       "    </tr>\n",
       "    <tr>\n",
       "      <th>Yugo</th>\n",
       "      <td>356.068256</td>\n",
       "    </tr>\n",
       "    <tr>\n",
       "      <th>Grumman Olson</th>\n",
       "      <td>356.337423</td>\n",
       "    </tr>\n",
       "    <tr>\n",
       "      <th>Honda</th>\n",
       "      <td>357.532578</td>\n",
       "    </tr>\n",
       "  </tbody>\n",
       "</table>\n",
       "</div>"
      ],
      "text/plain": [
       "               CO2_Emission_Grams_Mile\n",
       "Make                                  \n",
       "Fisker                      169.000000\n",
       "smart                       247.030556\n",
       "Fiat                        304.666560\n",
       "Daihatsu                    310.188060\n",
       "MINI                        313.716862\n",
       "Scion                       331.395918\n",
       "Geo                         337.077591\n",
       "Yugo                        356.068256\n",
       "Grumman Olson               356.337423\n",
       "Honda                       357.532578"
      ]
     },
     "execution_count": 24,
     "metadata": {},
     "output_type": "execute_result"
    }
   ],
   "source": [
    "cars.groupby('Make').agg({'CO2_Emission_Grams_Mile': 'mean'}).sort_values(by='CO2_Emission_Grams_Mile').head(10)"
   ]
  },
  {
   "cell_type": "markdown",
   "metadata": {},
   "source": [
    "Create 4 groups (bins) of cars, by Year. We want to explore how cars have evolved decade by decade."
   ]
  },
  {
   "cell_type": "code",
   "execution_count": 25,
   "metadata": {},
   "outputs": [],
   "source": [
    "cars['decades'] = pd.cut(cars['Year'],[1979,1989,1999,2009,2019],labels=['80s','90s','00s','10s'])"
   ]
  },
  {
   "cell_type": "markdown",
   "metadata": {},
   "source": [
    "Did cars consume more gas in the eighties?"
   ]
  },
  {
   "cell_type": "code",
   "execution_count": 26,
   "metadata": {},
   "outputs": [
    {
     "name": "stdout",
     "output_type": "stream",
     "text": [
      "decades\n",
      "80s    18.552822\n",
      "90s    18.293291\n",
      "00s    17.962477\n",
      "10s    15.778968\n",
      "Name: Fuel_Barrels_Year, dtype: float64\n"
     ]
    }
   ],
   "source": [
    "print (cars.groupby('decades').Fuel_Barrels_Year.mean())"
   ]
  },
  {
   "cell_type": "markdown",
   "metadata": {},
   "source": [
    "Do cars with automatic transmission consume more fuel than cars with manual transmission?"
   ]
  },
  {
   "cell_type": "code",
   "execution_count": 399,
   "metadata": {},
   "outputs": [],
   "source": [
    "import re"
   ]
  },
  {
   "cell_type": "code",
   "execution_count": 27,
   "metadata": {},
   "outputs": [
    {
     "data": {
      "text/plain": [
       "Clean_transmission\n",
       "Automatic    18.043152\n",
       "Manual       16.704904\n",
       "Name: Fuel_Barrels_Year, dtype: float64"
      ]
     },
     "execution_count": 27,
     "metadata": {},
     "output_type": "execute_result"
    }
   ],
   "source": [
    "# print( cars.Transmission.unique()) #to check different transmissions\n",
    "cars['Clean_transmission'] = cars.apply(lambda row : 'Automatic' if row.Transmission.lower().startswith('auto') else 'Manual',axis=1)\n",
    "# print(cars.head(5))\n",
    "cars.groupby('Clean_transmission').Fuel_Barrels_Year.mean()"
   ]
  },
  {
   "cell_type": "markdown",
   "metadata": {},
   "source": [
    "Group cars by fuel type and aggregate them by the following criteria: \n",
    "\n",
    "- The maximum number cylinders\n",
    "- The oldest year\n",
    "- The average Miles Per Gallon in the city"
   ]
  },
  {
   "cell_type": "code",
   "execution_count": 401,
   "metadata": {},
   "outputs": [
    {
     "data": {
      "text/html": [
       "<div>\n",
       "<style scoped>\n",
       "    .dataframe tbody tr th:only-of-type {\n",
       "        vertical-align: middle;\n",
       "    }\n",
       "\n",
       "    .dataframe tbody tr th {\n",
       "        vertical-align: top;\n",
       "    }\n",
       "\n",
       "    .dataframe thead th {\n",
       "        text-align: right;\n",
       "    }\n",
       "</style>\n",
       "<table border=\"1\" class=\"dataframe\">\n",
       "  <thead>\n",
       "    <tr style=\"text-align: right;\">\n",
       "      <th></th>\n",
       "      <th>Cylinders</th>\n",
       "      <th>Year</th>\n",
       "      <th>City_MPG</th>\n",
       "    </tr>\n",
       "    <tr>\n",
       "      <th>Fuel_Type</th>\n",
       "      <th></th>\n",
       "      <th></th>\n",
       "      <th></th>\n",
       "    </tr>\n",
       "  </thead>\n",
       "  <tbody>\n",
       "    <tr>\n",
       "      <th>CNG</th>\n",
       "      <td>8.0</td>\n",
       "      <td>1993</td>\n",
       "      <td>15.966667</td>\n",
       "    </tr>\n",
       "    <tr>\n",
       "      <th>Diesel</th>\n",
       "      <td>10.0</td>\n",
       "      <td>1984</td>\n",
       "      <td>21.173436</td>\n",
       "    </tr>\n",
       "    <tr>\n",
       "      <th>Gasoline or E85</th>\n",
       "      <td>8.0</td>\n",
       "      <td>2000</td>\n",
       "      <td>15.347280</td>\n",
       "    </tr>\n",
       "    <tr>\n",
       "      <th>Gasoline or natural gas</th>\n",
       "      <td>8.0</td>\n",
       "      <td>2000</td>\n",
       "      <td>13.700000</td>\n",
       "    </tr>\n",
       "    <tr>\n",
       "      <th>Gasoline or propane</th>\n",
       "      <td>8.0</td>\n",
       "      <td>2001</td>\n",
       "      <td>12.000000</td>\n",
       "    </tr>\n",
       "    <tr>\n",
       "      <th>Midgrade</th>\n",
       "      <td>8.0</td>\n",
       "      <td>2011</td>\n",
       "      <td>14.851351</td>\n",
       "    </tr>\n",
       "    <tr>\n",
       "      <th>Premium</th>\n",
       "      <td>16.0</td>\n",
       "      <td>1985</td>\n",
       "      <td>16.793166</td>\n",
       "    </tr>\n",
       "    <tr>\n",
       "      <th>Premium Gas or Electricity</th>\n",
       "      <td>8.0</td>\n",
       "      <td>2011</td>\n",
       "      <td>30.705882</td>\n",
       "    </tr>\n",
       "    <tr>\n",
       "      <th>Premium and Electricity</th>\n",
       "      <td>8.0</td>\n",
       "      <td>2014</td>\n",
       "      <td>24.900000</td>\n",
       "    </tr>\n",
       "    <tr>\n",
       "      <th>Premium or E85</th>\n",
       "      <td>12.0</td>\n",
       "      <td>2004</td>\n",
       "      <td>17.305785</td>\n",
       "    </tr>\n",
       "    <tr>\n",
       "      <th>Regular</th>\n",
       "      <td>12.0</td>\n",
       "      <td>1984</td>\n",
       "      <td>17.970195</td>\n",
       "    </tr>\n",
       "    <tr>\n",
       "      <th>Regular Gas and Electricity</th>\n",
       "      <td>4.0</td>\n",
       "      <td>2012</td>\n",
       "      <td>43.125000</td>\n",
       "    </tr>\n",
       "    <tr>\n",
       "      <th>Regular Gas or Electricity</th>\n",
       "      <td>4.0</td>\n",
       "      <td>2016</td>\n",
       "      <td>43.000000</td>\n",
       "    </tr>\n",
       "  </tbody>\n",
       "</table>\n",
       "</div>"
      ],
      "text/plain": [
       "                             Cylinders  Year   City_MPG\n",
       "Fuel_Type                                              \n",
       "CNG                                8.0  1993  15.966667\n",
       "Diesel                            10.0  1984  21.173436\n",
       "Gasoline or E85                    8.0  2000  15.347280\n",
       "Gasoline or natural gas            8.0  2000  13.700000\n",
       "Gasoline or propane                8.0  2001  12.000000\n",
       "Midgrade                           8.0  2011  14.851351\n",
       "Premium                           16.0  1985  16.793166\n",
       "Premium Gas or Electricity         8.0  2011  30.705882\n",
       "Premium and Electricity            8.0  2014  24.900000\n",
       "Premium or E85                    12.0  2004  17.305785\n",
       "Regular                           12.0  1984  17.970195\n",
       "Regular Gas and Electricity        4.0  2012  43.125000\n",
       "Regular Gas or Electricity         4.0  2016  43.000000"
      ]
     },
     "execution_count": 401,
     "metadata": {},
     "output_type": "execute_result"
    }
   ],
   "source": [
    "cars.groupby('Fuel_Type').agg({'Cylinders' : 'max', 'Year' : 'min', 'City_MPG' : 'mean'})"
   ]
  },
  {
   "cell_type": "markdown",
   "metadata": {},
   "source": [
    "We want to use \"Drivetrain\" in a statistical model. Convert the column to numeric."
   ]
  },
  {
   "cell_type": "code",
   "execution_count": 402,
   "metadata": {},
   "outputs": [
    {
     "name": "stdout",
     "output_type": "stream",
     "text": [
      "[2 4]\n"
     ]
    }
   ],
   "source": [
    "\n",
    "#cars['Drivetrain'] = cars.Drivetrain.apply(lambda x : '4' if x.to_series().contains('2|rear|front') else '2')\n",
    "\n",
    "cars.loc[cars.Drivetrain.str.contains('2|Rear|Front'), 'Drivetrain'] = 2\n",
    "cars.loc[cars.Drivetrain != 2, 'Drivetrain'] = 4\n",
    "\n",
    "print (cars.Drivetrain.unique())\n",
    "\n"
   ]
  },
  {
   "cell_type": "code",
   "execution_count": 403,
   "metadata": {},
   "outputs": [],
   "source": [
    "cars['Drivetrain'] = pd.to_numeric(cars.Drivetrain)"
   ]
  },
  {
   "cell_type": "code",
   "execution_count": 404,
   "metadata": {},
   "outputs": [
    {
     "name": "stdout",
     "output_type": "stream",
     "text": [
      "<class 'pandas.core.frame.DataFrame'>\n",
      "RangeIndex: 35952 entries, 0 to 35951\n",
      "Data columns (total 17 columns):\n",
      " #   Column                   Non-Null Count  Dtype   \n",
      "---  ------                   --------------  -----   \n",
      " 0   id                       35952 non-null  int64   \n",
      " 1   Make                     35952 non-null  object  \n",
      " 2   Model                    35952 non-null  object  \n",
      " 3   Year                     35952 non-null  int64   \n",
      " 4   Engine_Displacement      35952 non-null  float64 \n",
      " 5   Cylinders                35952 non-null  float64 \n",
      " 6   Transmission             35952 non-null  object  \n",
      " 7   Drivetrain               35952 non-null  int64   \n",
      " 8   Vehicle_Class            35952 non-null  object  \n",
      " 9   Fuel_Type                35952 non-null  object  \n",
      " 10  Fuel_Barrels_Year        35952 non-null  float64 \n",
      " 11  City_MPG                 35952 non-null  int64   \n",
      " 12  Highway_MPG              35952 non-null  int64   \n",
      " 13  CO2_Emission_Grams_Mile  35952 non-null  float64 \n",
      " 14  Fuel_Cost_Year           35952 non-null  int64   \n",
      " 15  decades                  35952 non-null  category\n",
      " 16  Clean_transmission       35952 non-null  object  \n",
      "dtypes: category(1), float64(4), int64(6), object(6)\n",
      "memory usage: 4.4+ MB\n"
     ]
    }
   ],
   "source": [
    "cars.info()"
   ]
  },
  {
   "cell_type": "markdown",
   "metadata": {},
   "source": [
    "Read the `car_brands.csv` data:"
   ]
  },
  {
   "cell_type": "code",
   "execution_count": 201,
   "metadata": {},
   "outputs": [
    {
     "name": "stdout",
     "output_type": "stream",
     "text": [
      "                         brand  revenue  production\n",
      "0                   AM General     1537    1.002916\n",
      "1             ASC Incorporated      232    1.628105\n",
      "2                        Acura      234    3.394481\n",
      "3                   Alfa Romeo     1174    2.313726\n",
      "4  American Motors Corporation     1230    1.231024\n"
     ]
    }
   ],
   "source": [
    "car_brands = pd.read_csv('data/car_brands.csv')\n",
    "print(car_brands.head(5))"
   ]
  },
  {
   "cell_type": "markdown",
   "metadata": {},
   "source": [
    "Join the cars dataframe with the car brands dataframe."
   ]
  },
  {
   "cell_type": "code",
   "execution_count": 105,
   "metadata": {},
   "outputs": [
    {
     "data": {
      "text/html": [
       "<div>\n",
       "<style scoped>\n",
       "    .dataframe tbody tr th:only-of-type {\n",
       "        vertical-align: middle;\n",
       "    }\n",
       "\n",
       "    .dataframe tbody tr th {\n",
       "        vertical-align: top;\n",
       "    }\n",
       "\n",
       "    .dataframe thead th {\n",
       "        text-align: right;\n",
       "    }\n",
       "</style>\n",
       "<table border=\"1\" class=\"dataframe\">\n",
       "  <thead>\n",
       "    <tr style=\"text-align: right;\">\n",
       "      <th></th>\n",
       "      <th>id</th>\n",
       "      <th>Make</th>\n",
       "      <th>Model</th>\n",
       "      <th>Year</th>\n",
       "      <th>Engine_Displacement</th>\n",
       "      <th>Cylinders</th>\n",
       "      <th>Transmission</th>\n",
       "      <th>Drivetrain</th>\n",
       "      <th>Vehicle_Class</th>\n",
       "      <th>Fuel_Type</th>\n",
       "      <th>...</th>\n",
       "      <th>City_MPG</th>\n",
       "      <th>Highway_MPG</th>\n",
       "      <th>CO2_Emission_Grams_Mile</th>\n",
       "      <th>Fuel_Cost_Year</th>\n",
       "      <th>count</th>\n",
       "      <th>decades</th>\n",
       "      <th>Clean_transmission</th>\n",
       "      <th>brand</th>\n",
       "      <th>revenue</th>\n",
       "      <th>production</th>\n",
       "    </tr>\n",
       "  </thead>\n",
       "  <tbody>\n",
       "    <tr>\n",
       "      <th>0</th>\n",
       "      <td>0</td>\n",
       "      <td>AM General</td>\n",
       "      <td>DJ Po Vehicle 2WD</td>\n",
       "      <td>1984</td>\n",
       "      <td>2.5</td>\n",
       "      <td>4.0</td>\n",
       "      <td>Automatic 3-spd</td>\n",
       "      <td>2-Wheel Drive</td>\n",
       "      <td>Special Purpose Vehicle 2WD</td>\n",
       "      <td>Regular</td>\n",
       "      <td>...</td>\n",
       "      <td>18</td>\n",
       "      <td>17</td>\n",
       "      <td>522.764706</td>\n",
       "      <td>1950</td>\n",
       "      <td>NaN</td>\n",
       "      <td>(1979, 1989]</td>\n",
       "      <td>Automatic</td>\n",
       "      <td>AM General</td>\n",
       "      <td>1537</td>\n",
       "      <td>1.002916</td>\n",
       "    </tr>\n",
       "    <tr>\n",
       "      <th>1</th>\n",
       "      <td>1</td>\n",
       "      <td>AM General</td>\n",
       "      <td>FJ8c Post Office</td>\n",
       "      <td>1984</td>\n",
       "      <td>4.2</td>\n",
       "      <td>6.0</td>\n",
       "      <td>Automatic 3-spd</td>\n",
       "      <td>2-Wheel Drive</td>\n",
       "      <td>Special Purpose Vehicle 2WD</td>\n",
       "      <td>Regular</td>\n",
       "      <td>...</td>\n",
       "      <td>13</td>\n",
       "      <td>13</td>\n",
       "      <td>683.615385</td>\n",
       "      <td>2550</td>\n",
       "      <td>NaN</td>\n",
       "      <td>(1979, 1989]</td>\n",
       "      <td>Automatic</td>\n",
       "      <td>AM General</td>\n",
       "      <td>1537</td>\n",
       "      <td>1.002916</td>\n",
       "    </tr>\n",
       "    <tr>\n",
       "      <th>2</th>\n",
       "      <td>2</td>\n",
       "      <td>AM General</td>\n",
       "      <td>Post Office DJ5 2WD</td>\n",
       "      <td>1985</td>\n",
       "      <td>2.5</td>\n",
       "      <td>4.0</td>\n",
       "      <td>Automatic 3-spd</td>\n",
       "      <td>Rear-Wheel Drive</td>\n",
       "      <td>Special Purpose Vehicle 2WD</td>\n",
       "      <td>Regular</td>\n",
       "      <td>...</td>\n",
       "      <td>16</td>\n",
       "      <td>17</td>\n",
       "      <td>555.437500</td>\n",
       "      <td>2100</td>\n",
       "      <td>NaN</td>\n",
       "      <td>(1979, 1989]</td>\n",
       "      <td>Automatic</td>\n",
       "      <td>AM General</td>\n",
       "      <td>1537</td>\n",
       "      <td>1.002916</td>\n",
       "    </tr>\n",
       "    <tr>\n",
       "      <th>3</th>\n",
       "      <td>3</td>\n",
       "      <td>AM General</td>\n",
       "      <td>Post Office DJ8 2WD</td>\n",
       "      <td>1985</td>\n",
       "      <td>4.2</td>\n",
       "      <td>6.0</td>\n",
       "      <td>Automatic 3-spd</td>\n",
       "      <td>Rear-Wheel Drive</td>\n",
       "      <td>Special Purpose Vehicle 2WD</td>\n",
       "      <td>Regular</td>\n",
       "      <td>...</td>\n",
       "      <td>13</td>\n",
       "      <td>13</td>\n",
       "      <td>683.615385</td>\n",
       "      <td>2550</td>\n",
       "      <td>NaN</td>\n",
       "      <td>(1979, 1989]</td>\n",
       "      <td>Automatic</td>\n",
       "      <td>AM General</td>\n",
       "      <td>1537</td>\n",
       "      <td>1.002916</td>\n",
       "    </tr>\n",
       "    <tr>\n",
       "      <th>4</th>\n",
       "      <td>4</td>\n",
       "      <td>ASC Incorporated</td>\n",
       "      <td>GNX</td>\n",
       "      <td>1987</td>\n",
       "      <td>3.8</td>\n",
       "      <td>6.0</td>\n",
       "      <td>Automatic 4-spd</td>\n",
       "      <td>Rear-Wheel Drive</td>\n",
       "      <td>Midsize Cars</td>\n",
       "      <td>Premium</td>\n",
       "      <td>...</td>\n",
       "      <td>14</td>\n",
       "      <td>21</td>\n",
       "      <td>555.437500</td>\n",
       "      <td>2550</td>\n",
       "      <td>NaN</td>\n",
       "      <td>(1979, 1989]</td>\n",
       "      <td>Automatic</td>\n",
       "      <td>ASC Incorporated</td>\n",
       "      <td>232</td>\n",
       "      <td>1.628105</td>\n",
       "    </tr>\n",
       "    <tr>\n",
       "      <th>...</th>\n",
       "      <td>...</td>\n",
       "      <td>...</td>\n",
       "      <td>...</td>\n",
       "      <td>...</td>\n",
       "      <td>...</td>\n",
       "      <td>...</td>\n",
       "      <td>...</td>\n",
       "      <td>...</td>\n",
       "      <td>...</td>\n",
       "      <td>...</td>\n",
       "      <td>...</td>\n",
       "      <td>...</td>\n",
       "      <td>...</td>\n",
       "      <td>...</td>\n",
       "      <td>...</td>\n",
       "      <td>...</td>\n",
       "      <td>...</td>\n",
       "      <td>...</td>\n",
       "      <td>...</td>\n",
       "      <td>...</td>\n",
       "      <td>...</td>\n",
       "    </tr>\n",
       "    <tr>\n",
       "      <th>35947</th>\n",
       "      <td>35947</td>\n",
       "      <td>smart</td>\n",
       "      <td>fortwo coupe</td>\n",
       "      <td>2013</td>\n",
       "      <td>1.0</td>\n",
       "      <td>3.0</td>\n",
       "      <td>Auto(AM5)</td>\n",
       "      <td>Rear-Wheel Drive</td>\n",
       "      <td>Two Seaters</td>\n",
       "      <td>Premium</td>\n",
       "      <td>...</td>\n",
       "      <td>34</td>\n",
       "      <td>38</td>\n",
       "      <td>244.000000</td>\n",
       "      <td>1100</td>\n",
       "      <td>NaN</td>\n",
       "      <td>(2009, 2019]</td>\n",
       "      <td>Automatic</td>\n",
       "      <td>smart</td>\n",
       "      <td>447</td>\n",
       "      <td>2.229253</td>\n",
       "    </tr>\n",
       "    <tr>\n",
       "      <th>35948</th>\n",
       "      <td>35948</td>\n",
       "      <td>smart</td>\n",
       "      <td>fortwo coupe</td>\n",
       "      <td>2014</td>\n",
       "      <td>1.0</td>\n",
       "      <td>3.0</td>\n",
       "      <td>Auto(AM5)</td>\n",
       "      <td>Rear-Wheel Drive</td>\n",
       "      <td>Two Seaters</td>\n",
       "      <td>Premium</td>\n",
       "      <td>...</td>\n",
       "      <td>34</td>\n",
       "      <td>38</td>\n",
       "      <td>243.000000</td>\n",
       "      <td>1100</td>\n",
       "      <td>NaN</td>\n",
       "      <td>(2009, 2019]</td>\n",
       "      <td>Automatic</td>\n",
       "      <td>smart</td>\n",
       "      <td>447</td>\n",
       "      <td>2.229253</td>\n",
       "    </tr>\n",
       "    <tr>\n",
       "      <th>35949</th>\n",
       "      <td>35949</td>\n",
       "      <td>smart</td>\n",
       "      <td>fortwo coupe</td>\n",
       "      <td>2015</td>\n",
       "      <td>1.0</td>\n",
       "      <td>3.0</td>\n",
       "      <td>Auto(AM5)</td>\n",
       "      <td>Rear-Wheel Drive</td>\n",
       "      <td>Two Seaters</td>\n",
       "      <td>Premium</td>\n",
       "      <td>...</td>\n",
       "      <td>34</td>\n",
       "      <td>38</td>\n",
       "      <td>244.000000</td>\n",
       "      <td>1100</td>\n",
       "      <td>NaN</td>\n",
       "      <td>(2009, 2019]</td>\n",
       "      <td>Automatic</td>\n",
       "      <td>smart</td>\n",
       "      <td>447</td>\n",
       "      <td>2.229253</td>\n",
       "    </tr>\n",
       "    <tr>\n",
       "      <th>35950</th>\n",
       "      <td>35950</td>\n",
       "      <td>smart</td>\n",
       "      <td>fortwo coupe</td>\n",
       "      <td>2016</td>\n",
       "      <td>0.9</td>\n",
       "      <td>3.0</td>\n",
       "      <td>Auto(AM6)</td>\n",
       "      <td>Rear-Wheel Drive</td>\n",
       "      <td>Two Seaters</td>\n",
       "      <td>Premium</td>\n",
       "      <td>...</td>\n",
       "      <td>34</td>\n",
       "      <td>39</td>\n",
       "      <td>246.000000</td>\n",
       "      <td>1100</td>\n",
       "      <td>NaN</td>\n",
       "      <td>(2009, 2019]</td>\n",
       "      <td>Automatic</td>\n",
       "      <td>smart</td>\n",
       "      <td>447</td>\n",
       "      <td>2.229253</td>\n",
       "    </tr>\n",
       "    <tr>\n",
       "      <th>35951</th>\n",
       "      <td>35951</td>\n",
       "      <td>smart</td>\n",
       "      <td>fortwo coupe</td>\n",
       "      <td>2016</td>\n",
       "      <td>0.9</td>\n",
       "      <td>3.0</td>\n",
       "      <td>Manual 5-spd</td>\n",
       "      <td>Rear-Wheel Drive</td>\n",
       "      <td>Two Seaters</td>\n",
       "      <td>Premium</td>\n",
       "      <td>...</td>\n",
       "      <td>32</td>\n",
       "      <td>39</td>\n",
       "      <td>255.000000</td>\n",
       "      <td>1150</td>\n",
       "      <td>NaN</td>\n",
       "      <td>(2009, 2019]</td>\n",
       "      <td>Manual</td>\n",
       "      <td>smart</td>\n",
       "      <td>447</td>\n",
       "      <td>2.229253</td>\n",
       "    </tr>\n",
       "  </tbody>\n",
       "</table>\n",
       "<p>35952 rows × 21 columns</p>\n",
       "</div>"
      ],
      "text/plain": [
       "          id              Make                Model  Year  \\\n",
       "0          0        AM General    DJ Po Vehicle 2WD  1984   \n",
       "1          1        AM General     FJ8c Post Office  1984   \n",
       "2          2        AM General  Post Office DJ5 2WD  1985   \n",
       "3          3        AM General  Post Office DJ8 2WD  1985   \n",
       "4          4  ASC Incorporated                  GNX  1987   \n",
       "...      ...               ...                  ...   ...   \n",
       "35947  35947             smart         fortwo coupe  2013   \n",
       "35948  35948             smart         fortwo coupe  2014   \n",
       "35949  35949             smart         fortwo coupe  2015   \n",
       "35950  35950             smart         fortwo coupe  2016   \n",
       "35951  35951             smart         fortwo coupe  2016   \n",
       "\n",
       "       Engine_Displacement  Cylinders     Transmission        Drivetrain  \\\n",
       "0                      2.5        4.0  Automatic 3-spd     2-Wheel Drive   \n",
       "1                      4.2        6.0  Automatic 3-spd     2-Wheel Drive   \n",
       "2                      2.5        4.0  Automatic 3-spd  Rear-Wheel Drive   \n",
       "3                      4.2        6.0  Automatic 3-spd  Rear-Wheel Drive   \n",
       "4                      3.8        6.0  Automatic 4-spd  Rear-Wheel Drive   \n",
       "...                    ...        ...              ...               ...   \n",
       "35947                  1.0        3.0        Auto(AM5)  Rear-Wheel Drive   \n",
       "35948                  1.0        3.0        Auto(AM5)  Rear-Wheel Drive   \n",
       "35949                  1.0        3.0        Auto(AM5)  Rear-Wheel Drive   \n",
       "35950                  0.9        3.0        Auto(AM6)  Rear-Wheel Drive   \n",
       "35951                  0.9        3.0     Manual 5-spd  Rear-Wheel Drive   \n",
       "\n",
       "                     Vehicle_Class Fuel_Type  ...  City_MPG  Highway_MPG  \\\n",
       "0      Special Purpose Vehicle 2WD   Regular  ...        18           17   \n",
       "1      Special Purpose Vehicle 2WD   Regular  ...        13           13   \n",
       "2      Special Purpose Vehicle 2WD   Regular  ...        16           17   \n",
       "3      Special Purpose Vehicle 2WD   Regular  ...        13           13   \n",
       "4                     Midsize Cars   Premium  ...        14           21   \n",
       "...                            ...       ...  ...       ...          ...   \n",
       "35947                  Two Seaters   Premium  ...        34           38   \n",
       "35948                  Two Seaters   Premium  ...        34           38   \n",
       "35949                  Two Seaters   Premium  ...        34           38   \n",
       "35950                  Two Seaters   Premium  ...        34           39   \n",
       "35951                  Two Seaters   Premium  ...        32           39   \n",
       "\n",
       "       CO2_Emission_Grams_Mile  Fuel_Cost_Year  count       decades  \\\n",
       "0                   522.764706            1950    NaN  (1979, 1989]   \n",
       "1                   683.615385            2550    NaN  (1979, 1989]   \n",
       "2                   555.437500            2100    NaN  (1979, 1989]   \n",
       "3                   683.615385            2550    NaN  (1979, 1989]   \n",
       "4                   555.437500            2550    NaN  (1979, 1989]   \n",
       "...                        ...             ...    ...           ...   \n",
       "35947               244.000000            1100    NaN  (2009, 2019]   \n",
       "35948               243.000000            1100    NaN  (2009, 2019]   \n",
       "35949               244.000000            1100    NaN  (2009, 2019]   \n",
       "35950               246.000000            1100    NaN  (2009, 2019]   \n",
       "35951               255.000000            1150    NaN  (2009, 2019]   \n",
       "\n",
       "      Clean_transmission             brand revenue  production  \n",
       "0              Automatic        AM General    1537    1.002916  \n",
       "1              Automatic        AM General    1537    1.002916  \n",
       "2              Automatic        AM General    1537    1.002916  \n",
       "3              Automatic        AM General    1537    1.002916  \n",
       "4              Automatic  ASC Incorporated     232    1.628105  \n",
       "...                  ...               ...     ...         ...  \n",
       "35947          Automatic             smart     447    2.229253  \n",
       "35948          Automatic             smart     447    2.229253  \n",
       "35949          Automatic             smart     447    2.229253  \n",
       "35950          Automatic             smart     447    2.229253  \n",
       "35951             Manual             smart     447    2.229253  \n",
       "\n",
       "[35952 rows x 21 columns]"
      ]
     },
     "execution_count": 105,
     "metadata": {},
     "output_type": "execute_result"
    }
   ],
   "source": [
    "cars.merge(car_brands, left_on='Make', right_on='brand')"
   ]
  },
  {
   "cell_type": "markdown",
   "metadata": {},
   "source": [
    "Which brands have the most revenue?"
   ]
  },
  {
   "cell_type": "code",
   "execution_count": 109,
   "metadata": {},
   "outputs": [
    {
     "data": {
      "text/plain": [
       "brand             Geo\n",
       "revenue          1988\n",
       "production    1.10077\n",
       "Name: 41, dtype: object"
      ]
     },
     "execution_count": 109,
     "metadata": {},
     "output_type": "execute_result"
    }
   ],
   "source": [
    "car_brands.loc[car_brands['revenue'].idxmax()]"
   ]
  }
 ],
 "metadata": {
  "kernelspec": {
   "display_name": "Python 3",
   "language": "python",
   "name": "python3"
  },
  "language_info": {
   "codemirror_mode": {
    "name": "ipython",
    "version": 3
   },
   "file_extension": ".py",
   "mimetype": "text/x-python",
   "name": "python",
   "nbconvert_exporter": "python",
   "pygments_lexer": "ipython3",
   "version": "3.8.8"
  },
  "toc": {
   "base_numbering": 1,
   "nav_menu": {},
   "number_sections": true,
   "sideBar": true,
   "skip_h1_title": false,
   "title_cell": "Table of Contents",
   "title_sidebar": "Contents",
   "toc_cell": false,
   "toc_position": {},
   "toc_section_display": true,
   "toc_window_display": false
  },
  "varInspector": {
   "cols": {
    "lenName": 16,
    "lenType": 16,
    "lenVar": 40
   },
   "kernels_config": {
    "python": {
     "delete_cmd_postfix": "",
     "delete_cmd_prefix": "del ",
     "library": "var_list.py",
     "varRefreshCmd": "print(var_dic_list())"
    },
    "r": {
     "delete_cmd_postfix": ") ",
     "delete_cmd_prefix": "rm(",
     "library": "var_list.r",
     "varRefreshCmd": "cat(var_dic_list()) "
    }
   },
   "types_to_exclude": [
    "module",
    "function",
    "builtin_function_or_method",
    "instance",
    "_Feature"
   ],
   "window_display": false
  }
 },
 "nbformat": 4,
 "nbformat_minor": 4
}
